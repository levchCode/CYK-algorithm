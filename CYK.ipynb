{
 "cells": [
  {
   "cell_type": "markdown",
   "metadata": {},
   "source": [
    "<h1>Cocke–Younger–Kasami algorithm</h1>"
   ]
  },
  {
   "cell_type": "markdown",
   "metadata": {},
   "source": [
    "Loading matplotlib for graphics"
   ]
  },
  {
   "cell_type": "code",
   "execution_count": null,
   "metadata": {
    "vscode": {
     "languageId": "shellscript"
    }
   },
   "outputs": [],
   "source": [
    "!python3 -m pip install matplotlib"
   ]
  },
  {
   "cell_type": "code",
   "execution_count": 5,
   "metadata": {},
   "outputs": [],
   "source": [
    "import matplotlib.pyplot as plt\n",
    "%matplotlib inline"
   ]
  },
  {
   "cell_type": "markdown",
   "metadata": {},
   "source": [
    "The `check` is the string under test\n",
    "\n",
    "The `grammar` is the context-free grammar rendered into Chomsky normal form (CNF)\n",
    "\n",
    "The `start` keeps the set of initial symbols \n",
    "\n",
    "The `n` keeps the length of the tested string"
   ]
  },
  {
   "cell_type": "code",
   "execution_count": 6,
   "metadata": {},
   "outputs": [],
   "source": [
    "check = \"aabb\"\n",
    "\n",
    "grammar = [\n",
    "    {\"S\": (\"A\", \"C\")},\n",
    "    {\"S\": (\"A\", \"B\")},\n",
    "    {\"C\": (\"S\", \"B\")},\n",
    "    {\"A\": \"a\"},\n",
    "    {\"B\": \"b\"}\n",
    "]\n",
    "\n",
    "start = [\"S\"]\n",
    "n = len(check)"
   ]
  },
  {
   "cell_type": "markdown",
   "metadata": {},
   "source": [
    "Now we split the rules\n",
    "<br>\n",
    "<br>\n",
    "`final` variable will contain rules like A -> a\n",
    "<br>\n",
    "`nfinal` variable will contain rules like A -> BC </p> "
   ]
  },
  {
   "cell_type": "code",
   "execution_count": 7,
   "metadata": {},
   "outputs": [],
   "source": [
    "final = []\n",
    "nfinal = []\n",
    "\n",
    "for gr in grammar:\n",
    "    [[left, right]] = gr.items()\n",
    "    if len(right) == 1:\n",
    "        final.append(gr)\n",
    "    else:\n",
    "        nfinal.append(gr)\n"
   ]
  },
  {
   "cell_type": "markdown",
   "metadata": {},
   "source": [
    "Now we initialize a NxN matrix `P` to keep the result triangle"
   ]
  },
  {
   "cell_type": "code",
   "execution_count": 29,
   "metadata": {},
   "outputs": [],
   "source": [
    "P = [[[] for row in range(n)] for x in range(n)]"
   ]
  },
  {
   "cell_type": "markdown",
   "metadata": {},
   "source": [
    "The first loop places A -> a in the first line"
   ]
  },
  {
   "cell_type": "code",
   "execution_count": 30,
   "metadata": {},
   "outputs": [],
   "source": [
    "for i in range(n):\n",
    "    for j in range(len(final)): \n",
    "        [[left, right]] = final[j].items()\n",
    "        if check[i] in right:\n",
    "            P[0][i].append(left)"
   ]
  },
  {
   "cell_type": "markdown",
   "metadata": {},
   "source": [
    "Now we fill up the rest of the triangle"
   ]
  },
  {
   "cell_type": "code",
   "execution_count": 31,
   "metadata": {},
   "outputs": [],
   "source": [
    "for i in range(1, n):\n",
    "    for j in range(n-i):\n",
    "        for k in range(i):\n",
    "            for nf in nfinal:\n",
    "                [[left, right]] = nf.items()\n",
    "                if right[0] in P[k][j] and right[1] in P[i-k-1][j+k+1]:\n",
    "                    P[i][j].append(left)"
   ]
  },
  {
   "cell_type": "markdown",
   "metadata": {},
   "source": [
    "Checking if the tested word belongs to the language and ploting the result triangle"
   ]
  },
  {
   "cell_type": "code",
   "execution_count": 34,
   "metadata": {},
   "outputs": [
    {
     "name": "stdout",
     "output_type": "stream",
     "text": [
      "The tested word was recognised\n"
     ]
    },
    {
     "data": {
      "image/png": "[encoded data removed]",
      "text/plain": [
       "<Figure size 640x480 with 1 Axes>"
      ]
     },
     "metadata": {},
     "output_type": "display_data"
    }
   ],
   "source": [
    "result = False\n",
    "for i in P[n-1][0]:\n",
    "    if i in start:\n",
    "        result = True\n",
    "        break\n",
    "\n",
    "if result:\n",
    "    print(\"The tested word was recognised\")\n",
    "else:\n",
    "    print(\"The tested word was not recognised\")\n",
    "\n",
    "fig, axs = plt.subplots(1,1)\n",
    "\n",
    "table = axs.table(cellText=P, colLabels=list(check), fontsize=80, loc='center', cellLoc='center')\n",
    "table.set_fontsize(18)\n",
    "table.scale(2, 2)\n",
    "\n",
    "plt.axis('off')\n",
    "plt.show()"
   ]
  }
 ],
 "metadata": {
  "kernelspec": {
   "display_name": "Python 3",
   "language": "python",
   "name": "python3"
  },
  "language_info": {
   "codemirror_mode": {
    "name": "ipython",
    "version": 3
   },
   "file_extension": ".py",
   "mimetype": "text/x-python",
   "name": "python",
   "nbconvert_exporter": "python",
   "pygments_lexer": "ipython3",
   "version": "3.9.6"
  }
 },
 "nbformat": 4,
 "nbformat_minor": 4
}
