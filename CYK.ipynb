{
 "cells": [
  {
   "cell_type": "markdown",
   "metadata": {},
   "source": [
    "<h1>Алгоритм Кока — Янгера — Касами</h1>"
   ]
  },
  {
   "cell_type": "code",
   "execution_count": 50,
   "metadata": {},
   "outputs": [],
   "source": [
    "import matplotlib.pyplot as plt\n",
    "import numpy as np\n",
    "%matplotlib inline"
   ]
  },
  {
   "cell_type": "code",
   "execution_count": 51,
   "metadata": {},
   "outputs": [],
   "source": [
    "#Проверяемая строка\n",
    "check = \"aabb\"\n",
    "\n",
    "#Грамматика языка\n",
    "grammar =[\n",
    "    {\"S\": (\"A\", \"C\")},\n",
    "    {\"S\": (\"A\", \"B\")},\n",
    "    {\"C\": (\"S\", \"B\")},\n",
    "    {\"A\": \"a\"},\n",
    "    {\"B\": \"b\"}\n",
    "]\n",
    "\n",
    "#Множество начальных символов\n",
    "start = [\"S\"]"
   ]
  },
  {
   "cell_type": "code",
   "execution_count": 52,
   "metadata": {},
   "outputs": [],
   "source": [
    "#Длинна строки\n",
    "n = len(check)"
   ]
  },
  {
   "cell_type": "markdown",
   "metadata": {},
   "source": [
    "<p>Делим правила:</p>\n",
    "<p>В final пойдут правила вида A -> a </p>\n",
    "<p>В nfinal пойдут правила вида A -> BC </p> "
   ]
  },
  {
   "cell_type": "code",
   "execution_count": 53,
   "metadata": {},
   "outputs": [],
   "source": [
    "final = []\n",
    "nfinal = []\n",
    "\n",
    "for gr in grammar:\n",
    "    [[left, right]] = gr.items()\n",
    "    if len(right) == 1:\n",
    "        final.append(gr)\n",
    "    else:\n",
    "        nfinal.append(gr)\n"
   ]
  },
  {
   "cell_type": "markdown",
   "metadata": {},
   "source": [
    "Создаем таблицу NxN для хранения треугольника"
   ]
  },
  {
   "cell_type": "code",
   "execution_count": 54,
   "metadata": {},
   "outputs": [],
   "source": [
    "P = [[[] for row in range(n)] for x in range(n)]"
   ]
  },
  {
   "cell_type": "markdown",
   "metadata": {},
   "source": [
    "Первый цикл алгоритма - расстановка по правилам A -> a в первой строке"
   ]
  },
  {
   "cell_type": "code",
   "execution_count": 55,
   "metadata": {},
   "outputs": [],
   "source": [
    "for i in range(n):\n",
    "    for j in range(len(final)): \n",
    "        [[left, right]] = final[j].items()\n",
    "        if check[i] in right:\n",
    "            P[0][i].append(left)"
   ]
  },
  {
   "cell_type": "markdown",
   "metadata": {},
   "source": [
    "Заполняем таблицу до конца"
   ]
  },
  {
   "cell_type": "code",
   "execution_count": 56,
   "metadata": {},
   "outputs": [],
   "source": [
    "for i in range(1, n):\n",
    "    for j in range(n-i):\n",
    "        for k in range(i):\n",
    "            for nf in nfinal:\n",
    "                [[left, right]] = nf.items()\n",
    "                if right[0] in P[k][j] and right[1] in P[i-k-1][j+k+1]:\n",
    "                    P[i][j].append(left)"
   ]
  },
  {
   "cell_type": "markdown",
   "metadata": {},
   "source": [
    "Отрисовываем таблицу"
   ]
  },
  {
   "cell_type": "code",
   "execution_count": 66,
   "metadata": {},
   "outputs": [
    {
     "name": "stdout",
     "output_type": "stream",
     "text": [
      "Слово принадлежит языку\n"
     ]
    },
    {
     "data": {
      "image/png": "[encoded data removed]",
      "text/plain": [
       "<Figure size 432x288 with 1 Axes>"
      ]
     },
     "metadata": {
      "needs_background": "light"
     },
     "output_type": "display_data"
    }
   ],
   "source": [
    "result = False\n",
    "for i in P[n-1][0]:\n",
    "    if i in start:\n",
    "        result = True\n",
    "        break;\n",
    "\n",
    "if result:\n",
    "    print(\"Слово распознано\")\n",
    "else:\n",
    "    print(\"Слово не распознано\")\n",
    "\n",
    "fig, axs = plt.subplots(1,1)\n",
    "\n",
    "table = axs.table(cellText=np.array(P), colLabels=list(check), fontsize=80, loc='center', cellLoc='center')\n",
    "table.set_fontsize(18)\n",
    "table.scale(2, 2)  # may help\n",
    "\n",
    "plt.axis('off')\n",
    "plt.show()"
   ]
  },
  {
   "cell_type": "code",
   "execution_count": null,
   "metadata": {},
   "outputs": [],
   "source": []
  }
 ],
 "metadata": {
  "kernelspec": {
   "display_name": "Python 3",
   "language": "python",
   "name": "python3"
  },
  "language_info": {
   "codemirror_mode": {
    "name": "ipython",
    "version": 3
   },
   "file_extension": ".py",
   "mimetype": "text/x-python",
   "name": "python",
   "nbconvert_exporter": "python",
   "pygments_lexer": "ipython3",
   "version": "3.7.3"
  }
 },
 "nbformat": 4,
 "nbformat_minor": 4
}
